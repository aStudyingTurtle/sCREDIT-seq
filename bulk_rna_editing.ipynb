{
 "cells": [
  {
   "cell_type": "code",
   "execution_count": null,
   "metadata": {},
   "outputs": [],
   "source": [
    "import sys  # noqa\n",
    "import os\n",
    "import subprocess\n",
    "import logging\n",
    "import warnings\n",
    "from multiprocessing import Manager, Pool, Process\n",
    "import pickle as pkl\n",
    "\n",
    "import numpy as np\n",
    "import pandas as pd\n",
    "from pandarallel import pandarallel\n",
    "import seaborn as sns\n",
    "import matplotlib.pyplot as plt\n",
    "from statannotations.Annotator import Annotator\n",
    "from scipy import stats\n",
    "\n",
    "from downstream.rna_seq import volcano, convert_ensg_to_symbol, pyPPI, pyTCGA, plot_gene,plot_boxplot_gene,get_contrast\n",
    "from downstream.editing_reditools import get_dict_reditools, plot_site_counts, get_samp_df, plot_editing_overview_shared_site, plot_editing_overview_all_site, get_melt_df_outer, plot_editing_events_pk_read, get_file_info, plot_editing_events, get_REDIT_count_df, check_editing_group, get_samp_df_frequency\n",
    "warnings.filterwarnings(\"ignore\", category=DeprecationWarning)\n",
    "\n",
    "THREADS = 60\n",
    "os.environ[\"POLARS_MAX_THREADS\"] = str(THREADS)\n",
    "logging.basicConfig(\n",
    "    stream=sys.stdout,\n",
    "    format=\"%(asctime)s %(levelname)s: %(message)s\",\n",
    "    datefmt=\"%Y-%m-%d %H:%M:%S\", level=logging.INFO)\n",
    "logger = logging.getLogger(__name__)\n",
    "logger.info(\"work_dir: %s\" % os.getcwd())\n",
    "\n",
    "def do_something_background(myfunction, *args, **kwargs):\n",
    "    my_process = Process(target=myfunction, args=args, kwargs=kwargs)\n",
    "    my_process.daemon = True\n",
    "    my_process.start()\n",
    "\n",
    "def do_some_command_background(command, log_file=None):\n",
    "    if log_file is None:\n",
    "        log_file = open('log_file.log', 'a')\n",
    "    my_process = Process(\n",
    "        target=subprocess.run,\n",
    "        kwargs={\n",
    "            'args': command,\n",
    "            'shell': True,\n",
    "            'stderr': log_file,\n",
    "            'stdout': log_file})\n",
    "    my_process.daemon = True\n",
    "    my_process.start()\n",
    "\n",
    "from pydeseq2.dds import DeseqDataSet\n",
    "from pydeseq2.default_inference import DefaultInference\n",
    "from pydeseq2.ds import DeseqStats\n",
    "inference = DefaultInference(n_cpus=16)"
   ]
  },
  {
   "cell_type": "code",
   "execution_count": 2,
   "metadata": {},
   "outputs": [],
   "source": [
    "columns = []\n",
    "expression_count = ''\n",
    "expression_tpm = ''\n",
    "meta_data = pd.DataFrame({'Condition': ['ctl',\n",
    "                                        'ctl',\n",
    "                                        'kd',\n",
    "                                        'kd',\n",
    "                                        ]},\n",
    "                         index=columns)\n",
    "\n",
    "\n",
    "res_path = ''\n",
    "reditools_res_path = ''\n",
    "file_info_path = ''\n",
    "aei = ''\n",
    "name = ''\n",
    "os.chdir(res_path)\n",
    "\n",
    "reditools_res_t = get_dict_reditools(reditools_res_path)\n",
    "res_downsample_t = get_dict_reditools(reditools_res_path + '_downsample')\n",
    "file_info = get_file_info(file_info_path)\n",
    "file_info_downsample = get_file_info(file_info_path + '_downsample')\n",
    "\n",
    "reditools_res = {}\n",
    "res_downsample = {}\n",
    "for i in columns:\n",
    "    reditools_res[i] = reditools_res_t[i]\n",
    "    res_downsample[i] = res_downsample_t[i]"
   ]
  },
  {
   "cell_type": "code",
   "execution_count": 8,
   "metadata": {},
   "outputs": [],
   "source": [
    "s293t_ctl_1 = pd.read_csv(\n",
    "    '293T-ctl-1.reditools2.annotated.tsv.gz',\n",
    "    sep='\\t')\n",
    "s293t_ctl_2 = pd.read_csv(\n",
    "    '293T-ctl-2.reditools2.annotated.tsv.gz',\n",
    "    sep='\\t')\n",
    "s293t_kd_1 = pd.read_csv(\n",
    "    '293T-kd-1.reditools2.annotated.tsv.gz',\n",
    "    sep='\\t')\n",
    "s293t_kd_2 = pd.read_csv(\n",
    "    '293T-kd-2.reditools2.annotated.tsv.gz',\n",
    "    sep='\\t')"
   ]
  },
  {
   "cell_type": "code",
   "execution_count": null,
   "metadata": {},
   "outputs": [],
   "source": [
    "def df_to_list(s293t_kd_1):\n",
    "    s293t_kd_1 = s293t_ctl_1[(s293t_ctl_1.FILTER_PASS)\n",
    "                             & (s293t_ctl_1.REDIPortal)]\n",
    "    return list(s293t_kd_1['CHROM'].astype(str) + ':' + s293t_kd_1['POS'].astype(str))\n",
    "len(set(df_to_list(s293t_kd_1) + df_to_list(s293t_kd_2) + df_to_list(s293t_ctl_1) + df_to_list(s293t_ctl_2))) "
   ]
  },
  {
   "cell_type": "code",
   "execution_count": null,
   "metadata": {},
   "outputs": [],
   "source": [
    "%run common_editing.ipynb"
   ]
  }
 ],
 "metadata": {
  "kernelspec": {
   "display_name": "single_cell",
   "language": "python",
   "name": "single_cell"
  },
  "language_info": {
   "codemirror_mode": {
    "name": "ipython",
    "version": 3
   },
   "file_extension": ".py",
   "mimetype": "text/x-python",
   "name": "python",
   "nbconvert_exporter": "python",
   "pygments_lexer": "ipython3",
   "version": "3.10.14"
  }
 },
 "nbformat": 4,
 "nbformat_minor": 2
}
